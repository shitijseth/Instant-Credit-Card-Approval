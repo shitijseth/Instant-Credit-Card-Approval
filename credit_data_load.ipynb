{
 "cells": [
  {
   "cell_type": "markdown",
   "metadata": {},
   "source": [
    "## Loading Credit Card Data from Excel file"
   ]
  },
  {
   "cell_type": "code",
   "execution_count": 2,
   "metadata": {},
   "outputs": [],
   "source": [
    "import math\n",
    "import numpy as np\n",
    "from matplotlib import pyplot as plt\n",
    "from openpyxl import load_workbook"
   ]
  },
  {
   "cell_type": "markdown",
   "metadata": {},
   "source": [
    "## Row-wise data load "
   ]
  },
  {
   "cell_type": "code",
   "execution_count": 4,
   "metadata": {},
   "outputs": [
    {
     "name": "stdout",
     "output_type": "stream",
     "text": [
      "(['b', 34.83, 4, 'u', 'g', 'd', 'bb', 12.5, 't', 'f', 0, 't', 'g', '?', 0], ['-'])\n",
      "(['a', '?', 3.5, 'u', 'g', 'd', 'v', 3, 't', 'f', 0, 't', 'g', 300, 0], ['-'])\n",
      "(['b', '?', 0.375, 'u', 'g', 'd', 'v', 0.875, 't', 'f', 0, 't', 's', 928, 0], ['-'])\n",
      "(['b', '?', 5, 'y', 'p', 'aa', 'v', 8.5, 't', 'f', 0, 'f', 'g', 0, 0], ['-'])\n",
      "(['b', '?', 0.5, 'u', 'g', 'c', 'bb', 0.835, 't', 'f', 0, 't', 's', 320, 0], ['-'])\n",
      "(['b', 24.83, 2.75, 'u', 'g', 'c', 'v', 2.25, 't', 't', 6, 'f', 'g', '?', 600], ['+'])\n",
      "(['a', 71.58, 0, '?', '?', '?', '?', 0, 'f', 'f', 0, 'f', 'p', '?', 0], ['+'])\n",
      "(['a', 18.75, 7.5, 'u', 'g', 'q', 'v', 2.71, 't', 't', 5, 'f', 'g', '?', 26726], ['+'])\n",
      "(['?', 24.5, 12.75, 'u', 'g', 'c', 'bb', 4.75, 't', 't', 2, 'f', 'g', 73, 444], ['+'])\n",
      "(['b', '?', 0.625, 'u', 'g', 'k', 'v', 0.25, 'f', 'f', 0, 'f', 'g', 380, 2010], ['-'])\n",
      "(['b', 37.58, 0, '?', '?', '?', '?', 0, 'f', 'f', 0, 'f', 'p', '?', 0], ['+'])\n",
      "(['b', 24.58, 13.5, 'y', 'p', 'ff', 'ff', 0, 'f', 'f', 0, 'f', 'g', '?', 0], ['-'])\n",
      "(['a', '?', 1.5, 'u', 'g', 'ff', 'ff', 0, 'f', 't', 2, 't', 'g', 200, 105], ['-'])\n",
      "(['?', 40.83, 3.5, 'u', 'g', 'i', 'bb', 0.5, 'f', 'f', 0, 'f', 's', 1160, 0], ['-'])\n",
      "(['b', '?', 4, 'y', 'p', 'i', 'v', 0.085, 'f', 'f', 0, 't', 'g', 411, 0], ['-'])\n",
      "(['b', 20.42, 0, '?', '?', '?', '?', 0, 'f', 'f', 0, 'f', 'p', '?', 0], ['-'])\n",
      "(['?', 32.25, 1.5, 'u', 'g', 'c', 'v', 0.25, 'f', 'f', 0, 't', 'g', 372, 122], ['-'])\n",
      "(['?', 28.17, 0.585, 'u', 'g', 'aa', 'v', 0.04, 'f', 'f', 0, 'f', 'g', 260, 1004], ['-'])\n",
      "(['a', 40.33, 8.125, 'y', 'p', 'k', 'v', 0.165, 'f', 't', 2, 'f', 'g', '?', 18], ['-'])\n",
      "(['a', '?', 11.25, 'u', 'g', 'ff', 'ff', 0, 'f', 'f', 0, 'f', 'g', '?', 5200], ['-'])\n",
      "(['b', '?', 3, 'y', 'p', 'i', 'bb', 7, 'f', 'f', 0, 'f', 'g', 0, 1], ['-'])\n",
      "(['?', 29.75, 0.665, 'u', 'g', 'w', 'v', 0.25, 'f', 'f', 0, 't', 'g', 300, 0], ['-'])\n",
      "(['b', 34.58, 0, '?', '?', '?', '?', 0, 'f', 'f', 0, 'f', 'p', '?', 0], ['-'])\n",
      "(['?', 26.5, 2.71, 'y', 'p', '?', '?', 0.085, 'f', 'f', 0, 'f', 's', 80, 0], ['-'])\n",
      "(['?', 45.33, 1, 'u', 'g', 'q', 'v', 0.125, 'f', 'f', 0, 't', 'g', 263, 0], ['-'])\n",
      "(['b', '?', 4, 'u', 'g', 'x', 'v', 5, 't', 't', 3, 't', 'g', 290, 2279], ['+'])\n",
      "(['b', '?', 10.5, 'u', 'g', 'x', 'v', 6.5, 't', 'f', 0, 'f', 'g', 0, 0], ['+'])\n",
      "(['?', 20.42, 7.5, 'u', 'g', 'k', 'v', 1.5, 't', 't', 1, 'f', 'g', 160, 234], ['+'])\n",
      "(['b', 80.25, 5.5, 'u', 'g', '?', '?', 0.54, 't', 'f', 0, 'f', 'g', 0, 340], ['-'])\n",
      "(['b', 23.17, 0, '?', '?', '?', '?', 0, 'f', 'f', 0, 'f', 'p', '?', 0], ['+'])\n",
      "(['?', 20.08, 0.125, 'u', 'g', 'q', 'v', 1, 'f', 't', 1, 'f', 'g', 240, 768], ['+'])\n",
      "(['?', 42.25, 1.75, 'y', 'p', '?', '?', 0, 'f', 'f', 0, 't', 'g', 150, 1], ['-'])\n",
      "(['b', '?', 0.04, 'y', 'p', 'd', 'v', 4.25, 'f', 'f', 0, 't', 'g', 460, 0], ['-'])\n",
      "(['a', 25.58, 0, '?', '?', '?', '?', 0, 'f', 'f', 0, 'f', 'p', '?', 0], ['+'])\n",
      "(['b', 22, 7.835, 'y', 'p', 'i', 'bb', 0.165, 'f', 'f', 0, 't', 'g', '?', 0], ['-'])\n",
      "(['?', 33.17, 2.25, 'y', 'p', 'cc', 'v', 3.5, 'f', 'f', 0, 't', 'g', 200, 141], ['-'])\n"
     ]
    }
   ],
   "source": [
    "#Finding rows with missing data\n",
    "\n",
    "#Opening the Excel file with data\n",
    "filepath=\"allvals.xlsx\" \n",
    "wb=load_workbook(filepath)\n",
    "sheet=wb.active\n",
    "\n",
    "#row-wise data read-in \n",
    "def read(num):\n",
    "    x, y = [], []\n",
    "\n",
    "# 1. Male, 2. Age, 3. Debt, 4. Married, 5. Bank Customer, 6. Education Level, 7. Ethnicity, 8. Years Employed, \n",
    "# 9.Prior Default, 10. Employed, 11. Credit Score, 12. Driver's License, 13. Citizen, 14. Zip Code, 15. Income\n",
    "\n",
    "#Column number to read in\n",
    "    cols = [1, 2, 3, 4, 5, 6, 7, 8, 9, 10, 11, 12, 13, 14, 15]\n",
    "    for i in cols:\n",
    "        x.append(sheet.cell(row=num+1,column=i).value)\n",
    "    y.append(sheet.cell(row=num+1,column=16).value)\n",
    "    return x, y\n",
    "\n",
    "x_data, y_data = [], []\n",
    "for j in range(1, 654):\n",
    "    valx, valy = read(j)\n",
    "    if \"?\" in valx:\n",
    "        print(read(j))\n",
    "    \n",
    "    x_data.append(valx)    \n",
    "    y_data.append(valy)\n",
    "\n",
    "#print(x_data, y_data)"
   ]
  },
  {
   "cell_type": "markdown",
   "metadata": {},
   "source": [
    "## Column-wise data load"
   ]
  },
  {
   "cell_type": "code",
   "execution_count": 9,
   "metadata": {},
   "outputs": [],
   "source": [
    "#Opening the Excel file with data\n",
    "filepath=\"credit_card_data.xlsx\" #Enter full filepath here\n",
    "wb=load_workbook(filepath)\n",
    "sheet=wb.active\n",
    "\n",
    "#Replace 'col' with column number\n",
    "def colread(col):\n",
    "    colval = []\n",
    "    for i in range(2, 654):\n",
    "        colval.append(sheet.cell(row=i, column=col).value)\n",
    "    return colval"
   ]
  },
  {
   "cell_type": "markdown",
   "metadata": {},
   "source": [
    "## Quantification of data"
   ]
  },
  {
   "cell_type": "markdown",
   "metadata": {},
   "source": [
    "Attributes like Male, Married, BankCustomer, EducationLevel, Ethnicity, DriversLicense, Citizen,  and Approved are expressed as characters in the data. To quantify them, the number of unique characters in each attribute column were found and were given numerical markers. <br>\n",
    "\n",
    "Male:            a, b.<br>\n",
    "Married:\t     u, y, l.<br>\n",
    "BankCustomer:    g, p.<br>\n",
    "EducationLevel:\t c, d, i, j, k, m, r, q, w, x, e, aa, ff.<br>\n",
    "Ethnicity:\t     v, h, bb, j, n, z, dd, ff, o.<br>\n",
    "Prior Default:\t t, f.<br>\n",
    "Employed:        t, f.<br>\n",
    "DriversLicense:  t, f.<br>\n",
    "Citizen:         g, p, s.<br>\n",
    "\n",
    "Label Approval:  +,- (class attribute)<br>\n",
    "\n",
    "This was converted to:-<br>\n",
    "\n",
    "Male:            0, 1.<br>\n",
    "Married:\t     0, 1, 2.<br>\n",
    "BankCustomer:    0, 1.<br>\n",
    "EducationLevel:\t 0, 1, 2, 3, 4, 5, 6, 7, 8, 9, 10, 11, 12.<br>\n",
    "Ethnicity:\t     0, 1, 2, 3, 4, 5, 6, 7, 8.<br>\n",
    "Prior Default:\t 1, 0.<br>\n",
    "Employed:        1, 0.<br>\n",
    "DriversLicense:  1, 0.<br>\n",
    "Citizen:         0, 1, 2.<br>\n",
    "\n",
    "Label Approval:  1, 0 (class attribute)<br>"
   ]
  }
 ],
 "metadata": {
  "kernelspec": {
   "display_name": "Python 3",
   "language": "python",
   "name": "python3"
  },
  "language_info": {
   "codemirror_mode": {
    "name": "ipython",
    "version": 3
   },
   "file_extension": ".py",
   "mimetype": "text/x-python",
   "name": "python",
   "nbconvert_exporter": "python",
   "pygments_lexer": "ipython3",
   "version": "3.7.3"
  }
 },
 "nbformat": 4,
 "nbformat_minor": 2
}
